{
 "cells": [
  {
   "cell_type": "code",
   "execution_count": 1,
   "id": "d54d98d4-58f6-4812-9825-4d3edd8821c9",
   "metadata": {},
   "outputs": [],
   "source": [
    "import findspark\n",
    "findspark.init()\n",
    "from pyspark.sql import SparkSession\n",
    "spark = SparkSession.builder.appName(\"Test\").getOrCreate()"
   ]
  },
  {
   "cell_type": "code",
   "execution_count": 32,
   "id": "f9bd4c58-0006-4c9c-a1dc-88c7839d08a1",
   "metadata": {},
   "outputs": [
    {
     "name": "stdout",
     "output_type": "stream",
     "text": [
      "+----+-------+---+----+---+----+---+----+\n",
      "|S.NO|SECTION| DV|M-II| PP|BEEE| FL|FIMS|\n",
      "+----+-------+---+----+---+----+---+----+\n",
      "|   1|  ALPHA| 12|   0| 17|   9| 19|  15|\n",
      "|   2|  ALPHA| 19|  12| 16|  16| 18|   3|\n",
      "|   3|  ALPHA| 18|  14| 18|  18| 18|  16|\n",
      "|   4|  ALPHA| 15|   9| 19|  17| 19|  15|\n",
      "|   5|  ALPHA| 18|  17| 19|  19| 20|  18|\n",
      "|   6|  ALPHA| 17|  16| 18|  10| 15|   9|\n",
      "|   7|  ALPHA| 15|  10| 20|  20| 15|  14|\n",
      "|   8|  ALPHA| 17|  17| 19|  20| 19|  13|\n",
      "|   9|  ALPHA| 10|  18|  A|  20| 19|  15|\n",
      "|  10|  ALPHA| 18|  19| 20|  20| 20|  15|\n",
      "|  11|  ALPHA| 17|  18| 20|  18| 20|  18|\n",
      "|  12|  ALPHA| 20|  20| 20|  20| 19|  16|\n",
      "|  13|  ALPHA| 16|  18| 11|  15| 19|  15|\n",
      "|  14|  ALPHA| 17|  17| 18|  11| 15|   9|\n",
      "|  15|  ALPHA| 19|  20| 20|  20| 18|  12|\n",
      "|  16|  ALPHA| 13|  18| 17|  19| 16|   9|\n",
      "|  17|  ALPHA| 15|  17| 18|  17| 17|  13|\n",
      "|  18|  ALPHA| 11|   8| 18|  15| 19|  15|\n",
      "|  19|  ALPHA| 14|  12| 16|  16| 20|  14|\n",
      "|  20|  ALPHA| 19|  17| 20|  20| 20|  18|\n",
      "+----+-------+---+----+---+----+---+----+\n",
      "only showing top 20 rows\n",
      "\n",
      "root\n",
      " |-- S.NO: string (nullable = true)\n",
      " |-- SECTION: string (nullable = true)\n",
      " |-- DV: string (nullable = true)\n",
      " |-- M-II: string (nullable = true)\n",
      " |-- PP: string (nullable = true)\n",
      " |-- BEEE: string (nullable = true)\n",
      " |-- FL: string (nullable = true)\n",
      " |-- FIMS: string (nullable = true)\n",
      "\n"
     ]
    }
   ],
   "source": [
    "data = spark.read.csv(\"MIDMARKS.csv\", header=True)\n",
    "data.show()\n",
    "data.printSchema()"
   ]
  },
  {
   "cell_type": "markdown",
   "id": "5df9154e-014d-4576-8820-4e561992ec23",
   "metadata": {},
   "source": [
    "#### HANDLING NULL VALUES"
   ]
  },
  {
   "cell_type": "code",
   "execution_count": 34,
   "id": "f78df7ea-48a7-452d-ae74-2294e49a357f",
   "metadata": {},
   "outputs": [],
   "source": [
    "subject_columns = [\"DV\", \"M-II\", \"PP\", \"BEEE\", \"FL\", \"FIMS\"]"
   ]
  },
  {
   "cell_type": "code",
   "execution_count": 36,
   "id": "a0b63494-e756-44fa-9697-40edbf4f2092",
   "metadata": {},
   "outputs": [],
   "source": [
    "from pyspark.sql.functions import col, when"
   ]
  },
  {
   "cell_type": "code",
   "execution_count": 38,
   "id": "f497817c-1216-4ede-b66e-03aee56fbb23",
   "metadata": {},
   "outputs": [],
   "source": [
    "for col_name in subject_columns:\n",
    "    data = data.withColumn(\n",
    "        col_name,\n",
    "        when(col(col_name).isin(\"A\", \"AB\", \"MP\", None), 0)\n",
    "        .otherwise(col(col_name).cast(\"int\"))\n",
    "    )"
   ]
  },
  {
   "cell_type": "code",
   "execution_count": 40,
   "id": "9f7838ea-9783-4415-aeb3-f293afa52b35",
   "metadata": {},
   "outputs": [
    {
     "name": "stdout",
     "output_type": "stream",
     "text": [
      "root\n",
      " |-- S.NO: string (nullable = true)\n",
      " |-- SECTION: string (nullable = true)\n",
      " |-- DV: integer (nullable = true)\n",
      " |-- M-II: integer (nullable = true)\n",
      " |-- PP: integer (nullable = true)\n",
      " |-- BEEE: integer (nullable = true)\n",
      " |-- FL: integer (nullable = true)\n",
      " |-- FIMS: integer (nullable = true)\n",
      "\n",
      "+----+-------+---+----+---+----+---+----+\n",
      "|S.NO|SECTION| DV|M-II| PP|BEEE| FL|FIMS|\n",
      "+----+-------+---+----+---+----+---+----+\n",
      "|   1|  ALPHA| 12|   0| 17|   9| 19|  15|\n",
      "|   2|  ALPHA| 19|  12| 16|  16| 18|   3|\n",
      "|   3|  ALPHA| 18|  14| 18|  18| 18|  16|\n",
      "|   4|  ALPHA| 15|   9| 19|  17| 19|  15|\n",
      "|   5|  ALPHA| 18|  17| 19|  19| 20|  18|\n",
      "|   6|  ALPHA| 17|  16| 18|  10| 15|   9|\n",
      "|   7|  ALPHA| 15|  10| 20|  20| 15|  14|\n",
      "|   8|  ALPHA| 17|  17| 19|  20| 19|  13|\n",
      "|   9|  ALPHA| 10|  18|  0|  20| 19|  15|\n",
      "|  10|  ALPHA| 18|  19| 20|  20| 20|  15|\n",
      "|  11|  ALPHA| 17|  18| 20|  18| 20|  18|\n",
      "|  12|  ALPHA| 20|  20| 20|  20| 19|  16|\n",
      "|  13|  ALPHA| 16|  18| 11|  15| 19|  15|\n",
      "|  14|  ALPHA| 17|  17| 18|  11| 15|   9|\n",
      "|  15|  ALPHA| 19|  20| 20|  20| 18|  12|\n",
      "|  16|  ALPHA| 13|  18| 17|  19| 16|   9|\n",
      "|  17|  ALPHA| 15|  17| 18|  17| 17|  13|\n",
      "|  18|  ALPHA| 11|   8| 18|  15| 19|  15|\n",
      "|  19|  ALPHA| 14|  12| 16|  16| 20|  14|\n",
      "|  20|  ALPHA| 19|  17| 20|  20| 20|  18|\n",
      "+----+-------+---+----+---+----+---+----+\n",
      "only showing top 20 rows\n",
      "\n"
     ]
    }
   ],
   "source": [
    "data.printSchema()\n",
    "data.show()"
   ]
  },
  {
   "cell_type": "code",
   "execution_count": 42,
   "id": "9220e44a-262f-405a-8220-f71c73945dc1",
   "metadata": {},
   "outputs": [
    {
     "name": "stdout",
     "output_type": "stream",
     "text": [
      "+-------+-----+\n",
      "|SECTION|count|\n",
      "+-------+-----+\n",
      "|   GAMA|    1|\n",
      "|   ZETA|   19|\n",
      "|   SGMA|    1|\n",
      "|   NULL|   41|\n",
      "|   BETA|   60|\n",
      "|  OMEGA|   60|\n",
      "|EPSILON|   60|\n",
      "|  SIGMA|   59|\n",
      "|  ALPHA|   60|\n",
      "|  GAMMA|   59|\n",
      "|  DELTA|   60|\n",
      "+-------+-----+\n",
      "\n"
     ]
    }
   ],
   "source": [
    "data.groupBy(\"SECTION\").count().show()"
   ]
  },
  {
   "cell_type": "code",
   "execution_count": 44,
   "id": "89670719-9370-4e26-aa7f-04bd9be7a3e6",
   "metadata": {},
   "outputs": [],
   "source": [
    "data = data.na.fill({\"SECTION\": \"ZETA\"})"
   ]
  },
  {
   "cell_type": "code",
   "execution_count": 46,
   "id": "280e0590-b41e-4c42-80ed-62689d0dd87c",
   "metadata": {},
   "outputs": [
    {
     "name": "stdout",
     "output_type": "stream",
     "text": [
      "+-------+-----+\n",
      "|SECTION|count|\n",
      "+-------+-----+\n",
      "|   GAMA|    1|\n",
      "|   ZETA|   60|\n",
      "|   SGMA|    1|\n",
      "|   BETA|   60|\n",
      "|  OMEGA|   60|\n",
      "|EPSILON|   60|\n",
      "|  SIGMA|   59|\n",
      "|  ALPHA|   60|\n",
      "|  GAMMA|   59|\n",
      "|  DELTA|   60|\n",
      "+-------+-----+\n",
      "\n"
     ]
    }
   ],
   "source": [
    "data.groupBy(\"SECTION\").count().show()"
   ]
  },
  {
   "cell_type": "code",
   "execution_count": 48,
   "id": "1825cf0a-0b27-4c32-bf47-01e4375c987f",
   "metadata": {},
   "outputs": [],
   "source": [
    "from pyspark.sql.functions import when, col\n",
    "data = data.withColumn(\n",
    "\"SECTION\",\n",
    "when(col(\"SECTION\") == \"GAMA\", \"GAMMA\")\n",
    ".when(col(\"SECTION\") == \"SGMA\", \"SIGMA\")\n",
    ".otherwise(col(\"SECTION\"))\n",
    ")"
   ]
  },
  {
   "cell_type": "code",
   "execution_count": 50,
   "id": "6e4c3708-4495-4b4f-af59-626daaa72bf4",
   "metadata": {},
   "outputs": [
    {
     "name": "stdout",
     "output_type": "stream",
     "text": [
      "+-------+-----+\n",
      "|SECTION|count|\n",
      "+-------+-----+\n",
      "|   ZETA|   60|\n",
      "|   BETA|   60|\n",
      "|  OMEGA|   60|\n",
      "|EPSILON|   60|\n",
      "|  SIGMA|   60|\n",
      "|  ALPHA|   60|\n",
      "|  GAMMA|   60|\n",
      "|  DELTA|   60|\n",
      "+-------+-----+\n",
      "\n"
     ]
    }
   ],
   "source": [
    "data.groupBy(\"SECTION\").count().show()"
   ]
  },
  {
   "cell_type": "code",
   "execution_count": 52,
   "id": "57d575cb-ee43-442c-bea1-a8a068104cb8",
   "metadata": {},
   "outputs": [
    {
     "name": "stdout",
     "output_type": "stream",
     "text": [
      "+----+-----+\n",
      "|  DV|count|\n",
      "+----+-----+\n",
      "|  12|   27|\n",
      "|NULL|    3|\n",
      "|   1|    3|\n",
      "|  13|   25|\n",
      "|  16|   48|\n",
      "|   6|    9|\n",
      "|   3|    1|\n",
      "|  20|   52|\n",
      "|   5|    8|\n",
      "|  19|   37|\n",
      "|  15|   45|\n",
      "|  17|   52|\n",
      "|   9|   14|\n",
      "|   4|    3|\n",
      "|   8|   10|\n",
      "|   7|    6|\n",
      "|  10|   22|\n",
      "|  11|   31|\n",
      "|  14|   24|\n",
      "|   2|    4|\n",
      "+----+-----+\n",
      "only showing top 20 rows\n",
      "\n"
     ]
    }
   ],
   "source": [
    "data.groupBy(\"DV\").count().show()"
   ]
  },
  {
   "cell_type": "code",
   "execution_count": 54,
   "id": "863c9ec1-59eb-40e8-95aa-4c72732054b8",
   "metadata": {},
   "outputs": [],
   "source": [
    "data = data.na.fill({\"DV\": \"0\"})"
   ]
  },
  {
   "cell_type": "code",
   "execution_count": 56,
   "id": "e56bc65e-4488-4dbd-915c-1a74b5bcf4a1",
   "metadata": {},
   "outputs": [
    {
     "name": "stdout",
     "output_type": "stream",
     "text": [
      "+---+-----+\n",
      "| DV|count|\n",
      "+---+-----+\n",
      "| 12|   27|\n",
      "|  1|    3|\n",
      "| 13|   25|\n",
      "| 16|   48|\n",
      "|  6|    9|\n",
      "|  3|    1|\n",
      "| 20|   52|\n",
      "|  5|    8|\n",
      "| 19|   37|\n",
      "| 15|   45|\n",
      "| 17|   52|\n",
      "|  9|   14|\n",
      "|  4|    3|\n",
      "|  8|   10|\n",
      "|  7|    6|\n",
      "| 10|   22|\n",
      "| 11|   31|\n",
      "| 14|   24|\n",
      "|  2|    4|\n",
      "|  0|   12|\n",
      "+---+-----+\n",
      "only showing top 20 rows\n",
      "\n"
     ]
    }
   ],
   "source": [
    "data.groupBy(\"DV\").count().show()"
   ]
  },
  {
   "cell_type": "code",
   "execution_count": 60,
   "id": "4cfb856d-3caa-4385-9b98-8c9353ebb127",
   "metadata": {},
   "outputs": [
    {
     "name": "stdout",
     "output_type": "stream",
     "text": [
      "+----+-----+\n",
      "|M-II|count|\n",
      "+----+-----+\n",
      "|  12|   23|\n",
      "|NULL|   10|\n",
      "|   1|   16|\n",
      "|  13|   18|\n",
      "|  16|   16|\n",
      "|   6|   18|\n",
      "|   3|   34|\n",
      "|  20|   44|\n",
      "|   5|   23|\n",
      "|  19|   12|\n",
      "|  15|   24|\n",
      "|   9|   17|\n",
      "|  17|   32|\n",
      "|   4|   22|\n",
      "|   8|   29|\n",
      "|   7|   14|\n",
      "|  10|   19|\n",
      "|  11|   24|\n",
      "|  14|   17|\n",
      "|   2|   12|\n",
      "+----+-----+\n",
      "only showing top 20 rows\n",
      "\n"
     ]
    }
   ],
   "source": [
    "data.groupBy(\"M-II\").count().show()"
   ]
  },
  {
   "cell_type": "code",
   "execution_count": 62,
   "id": "c3675d3d-868d-42b0-ae53-f12ce2a79ee7",
   "metadata": {},
   "outputs": [],
   "source": [
    "data = data.na.fill({\"M-II\": 0})"
   ]
  },
  {
   "cell_type": "code",
   "execution_count": 64,
   "id": "9afb5843-3954-40db-98be-5955fe73c68b",
   "metadata": {},
   "outputs": [
    {
     "name": "stdout",
     "output_type": "stream",
     "text": [
      "+----+-----+\n",
      "|M-II|count|\n",
      "+----+-----+\n",
      "|  12|   23|\n",
      "|   1|   16|\n",
      "|  13|   18|\n",
      "|  16|   16|\n",
      "|   6|   18|\n",
      "|   3|   34|\n",
      "|  20|   44|\n",
      "|   5|   23|\n",
      "|  19|   12|\n",
      "|  15|   24|\n",
      "|   9|   17|\n",
      "|  17|   32|\n",
      "|   4|   22|\n",
      "|   8|   29|\n",
      "|   7|   14|\n",
      "|  10|   19|\n",
      "|  11|   24|\n",
      "|  14|   17|\n",
      "|   2|   12|\n",
      "|   0|   43|\n",
      "+----+-----+\n",
      "only showing top 20 rows\n",
      "\n"
     ]
    }
   ],
   "source": [
    "data.groupBy(\"M-II\").count().show()"
   ]
  },
  {
   "cell_type": "code",
   "execution_count": 66,
   "id": "acf84e9b-d933-48aa-a6cd-2d0943ae2971",
   "metadata": {},
   "outputs": [
    {
     "name": "stdout",
     "output_type": "stream",
     "text": [
      "+---+-----+\n",
      "| PP|count|\n",
      "+---+-----+\n",
      "| 12|   28|\n",
      "|  1|    7|\n",
      "| 13|   15|\n",
      "| 16|   28|\n",
      "|  6|   18|\n",
      "|  3|   13|\n",
      "| 20|   70|\n",
      "|  5|   15|\n",
      "| 19|   35|\n",
      "| 15|   26|\n",
      "| 17|   31|\n",
      "|  9|   24|\n",
      "|  4|   10|\n",
      "|  8|   12|\n",
      "|  7|   10|\n",
      "| 10|   19|\n",
      "| 11|   28|\n",
      "| 14|   28|\n",
      "|  2|   13|\n",
      "|  0|   15|\n",
      "+---+-----+\n",
      "only showing top 20 rows\n",
      "\n"
     ]
    }
   ],
   "source": [
    "data.groupBy(\"PP\").count().show()"
   ]
  },
  {
   "cell_type": "code",
   "execution_count": 68,
   "id": "d05f33d2-5c94-4183-adf8-219d2727a077",
   "metadata": {},
   "outputs": [
    {
     "name": "stdout",
     "output_type": "stream",
     "text": [
      "+----+-----+\n",
      "|BEEE|count|\n",
      "+----+-----+\n",
      "|  12|   21|\n",
      "|NULL|    5|\n",
      "|   1|    3|\n",
      "|  13|   14|\n",
      "|  16|   23|\n",
      "|   6|   14|\n",
      "|   3|   14|\n",
      "|  20|   76|\n",
      "|   5|   10|\n",
      "|  19|   41|\n",
      "|  15|   28|\n",
      "|   9|   19|\n",
      "|  17|   45|\n",
      "|   4|   12|\n",
      "|   8|   13|\n",
      "|   7|   15|\n",
      "|  10|   20|\n",
      "|  11|   31|\n",
      "|  14|   21|\n",
      "|   2|    9|\n",
      "+----+-----+\n",
      "only showing top 20 rows\n",
      "\n"
     ]
    }
   ],
   "source": [
    "data.groupBy(\"BEEE\").count().show()"
   ]
  },
  {
   "cell_type": "code",
   "execution_count": 70,
   "id": "aeabf888-9c9b-45f6-b929-b98c54e79b9f",
   "metadata": {},
   "outputs": [],
   "source": [
    "data = data.na.fill({\"BEEE\": 0})"
   ]
  },
  {
   "cell_type": "code",
   "execution_count": 72,
   "id": "6b7f4a3c-02c6-47ff-9598-c33de5cb6440",
   "metadata": {},
   "outputs": [
    {
     "name": "stdout",
     "output_type": "stream",
     "text": [
      "+----+-----+\n",
      "|BEEE|count|\n",
      "+----+-----+\n",
      "|  12|   21|\n",
      "|   1|    3|\n",
      "|  13|   14|\n",
      "|  16|   23|\n",
      "|   6|   14|\n",
      "|   3|   14|\n",
      "|  20|   76|\n",
      "|   5|   10|\n",
      "|  19|   41|\n",
      "|  15|   28|\n",
      "|   9|   19|\n",
      "|  17|   45|\n",
      "|   4|   12|\n",
      "|   8|   13|\n",
      "|   7|   15|\n",
      "|  10|   20|\n",
      "|  11|   31|\n",
      "|  14|   21|\n",
      "|   2|    9|\n",
      "|   0|   21|\n",
      "+----+-----+\n",
      "only showing top 20 rows\n",
      "\n"
     ]
    }
   ],
   "source": [
    "data.groupBy(\"BEEE\").count().show()"
   ]
  },
  {
   "cell_type": "code",
   "execution_count": 74,
   "id": "9a90102c-87e5-4063-bd13-d0dff1e7a922",
   "metadata": {},
   "outputs": [
    {
     "name": "stdout",
     "output_type": "stream",
     "text": [
      "+----+-----+\n",
      "|  FL|count|\n",
      "+----+-----+\n",
      "|  12|    7|\n",
      "|NULL|    2|\n",
      "|  13|   50|\n",
      "|  16|   15|\n",
      "|   6|    2|\n",
      "|  20|  120|\n",
      "|  19|   34|\n",
      "|  15|   85|\n",
      "|  17|    9|\n",
      "|   9|    3|\n",
      "|   8|    6|\n",
      "|   7|    2|\n",
      "|  10|   55|\n",
      "|  11|   10|\n",
      "|  14|   11|\n",
      "|   0|   11|\n",
      "|  18|   58|\n",
      "+----+-----+\n",
      "\n"
     ]
    }
   ],
   "source": [
    "data.groupBy(\"FL\").count().show()"
   ]
  },
  {
   "cell_type": "code",
   "execution_count": 76,
   "id": "cf5e0ff9-6e57-414f-830e-a08d76d878ea",
   "metadata": {},
   "outputs": [],
   "source": [
    "data = data.na.fill({\"FL\": 0})"
   ]
  },
  {
   "cell_type": "code",
   "execution_count": 78,
   "id": "216bd814-30f0-4946-81e5-1a93f461f1c7",
   "metadata": {},
   "outputs": [
    {
     "name": "stdout",
     "output_type": "stream",
     "text": [
      "+---+-----+\n",
      "| FL|count|\n",
      "+---+-----+\n",
      "| 12|    7|\n",
      "| 13|   50|\n",
      "| 16|   15|\n",
      "|  6|    2|\n",
      "| 20|  120|\n",
      "| 19|   34|\n",
      "| 15|   85|\n",
      "| 17|    9|\n",
      "|  9|    3|\n",
      "|  8|    6|\n",
      "|  7|    2|\n",
      "| 10|   55|\n",
      "| 11|   10|\n",
      "| 14|   11|\n",
      "|  0|   13|\n",
      "| 18|   58|\n",
      "+---+-----+\n",
      "\n"
     ]
    }
   ],
   "source": [
    "data.groupBy(\"FL\").count().show()"
   ]
  },
  {
   "cell_type": "code",
   "execution_count": 80,
   "id": "c07352d8-36d2-4762-a23b-7dde891a8f60",
   "metadata": {},
   "outputs": [
    {
     "name": "stdout",
     "output_type": "stream",
     "text": [
      "+----+-----+\n",
      "|FIMS|count|\n",
      "+----+-----+\n",
      "|  12|   20|\n",
      "|NULL|    2|\n",
      "|   1|    3|\n",
      "|  13|   36|\n",
      "|  16|   49|\n",
      "|   6|    5|\n",
      "|   3|    6|\n",
      "|  20|   12|\n",
      "|   5|    5|\n",
      "|  19|   34|\n",
      "|  15|   57|\n",
      "|   9|   28|\n",
      "|  17|   40|\n",
      "|   4|    5|\n",
      "|   8|   11|\n",
      "|   7|    5|\n",
      "|  10|   18|\n",
      "|  11|   22|\n",
      "|  14|   40|\n",
      "|   2|    3|\n",
      "+----+-----+\n",
      "only showing top 20 rows\n",
      "\n"
     ]
    }
   ],
   "source": [
    "data.groupBy(\"FIMS\").count().show()"
   ]
  },
  {
   "cell_type": "code",
   "execution_count": 82,
   "id": "0e45a676-c301-4808-ac69-3ce43689197b",
   "metadata": {},
   "outputs": [],
   "source": [
    "data = data.na.fill({\"FIMS\": 0})"
   ]
  },
  {
   "cell_type": "code",
   "execution_count": 84,
   "id": "5c40e7d6-68bc-471d-919d-85e1153f127a",
   "metadata": {},
   "outputs": [
    {
     "name": "stdout",
     "output_type": "stream",
     "text": [
      "+----+-----+\n",
      "|FIMS|count|\n",
      "+----+-----+\n",
      "|  12|   20|\n",
      "|   1|    3|\n",
      "|  13|   36|\n",
      "|  16|   49|\n",
      "|   6|    5|\n",
      "|   3|    6|\n",
      "|  20|   12|\n",
      "|   5|    5|\n",
      "|  19|   34|\n",
      "|  15|   57|\n",
      "|   9|   28|\n",
      "|  17|   40|\n",
      "|   4|    5|\n",
      "|   8|   11|\n",
      "|   7|    5|\n",
      "|  10|   18|\n",
      "|  11|   22|\n",
      "|  14|   40|\n",
      "|   2|    3|\n",
      "|   0|   19|\n",
      "+----+-----+\n",
      "only showing top 20 rows\n",
      "\n"
     ]
    }
   ],
   "source": [
    "data.groupBy(\"FIMS\").count().show()"
   ]
  },
  {
   "cell_type": "markdown",
   "id": "98259e2b-5b63-41ba-bccf-c7095b324666",
   "metadata": {},
   "source": [
    "#### CALCULATIONS"
   ]
  },
  {
   "cell_type": "code",
   "execution_count": 86,
   "id": "3ad250c6-b117-4a69-a19e-0ed1338fdaea",
   "metadata": {},
   "outputs": [
    {
     "name": "stdout",
     "output_type": "stream",
     "text": [
      "+----+-------+---+----+---+----+---+----+-----+\n",
      "|S.NO|SECTION| DV|M-II| PP|BEEE| FL|FIMS|TOTAL|\n",
      "+----+-------+---+----+---+----+---+----+-----+\n",
      "|   1|  ALPHA| 12|   0| 17|   9| 19|  15|   72|\n",
      "|   2|  ALPHA| 19|  12| 16|  16| 18|   3|   84|\n",
      "|   3|  ALPHA| 18|  14| 18|  18| 18|  16|  102|\n",
      "|   4|  ALPHA| 15|   9| 19|  17| 19|  15|   94|\n",
      "|   5|  ALPHA| 18|  17| 19|  19| 20|  18|  111|\n",
      "|   6|  ALPHA| 17|  16| 18|  10| 15|   9|   85|\n",
      "|   7|  ALPHA| 15|  10| 20|  20| 15|  14|   94|\n",
      "|   8|  ALPHA| 17|  17| 19|  20| 19|  13|  105|\n",
      "|   9|  ALPHA| 10|  18|  0|  20| 19|  15|   82|\n",
      "|  10|  ALPHA| 18|  19| 20|  20| 20|  15|  112|\n",
      "|  11|  ALPHA| 17|  18| 20|  18| 20|  18|  111|\n",
      "|  12|  ALPHA| 20|  20| 20|  20| 19|  16|  115|\n",
      "|  13|  ALPHA| 16|  18| 11|  15| 19|  15|   94|\n",
      "|  14|  ALPHA| 17|  17| 18|  11| 15|   9|   87|\n",
      "|  15|  ALPHA| 19|  20| 20|  20| 18|  12|  109|\n",
      "|  16|  ALPHA| 13|  18| 17|  19| 16|   9|   92|\n",
      "|  17|  ALPHA| 15|  17| 18|  17| 17|  13|   97|\n",
      "|  18|  ALPHA| 11|   8| 18|  15| 19|  15|   86|\n",
      "|  19|  ALPHA| 14|  12| 16|  16| 20|  14|   92|\n",
      "|  20|  ALPHA| 19|  17| 20|  20| 20|  18|  114|\n",
      "+----+-------+---+----+---+----+---+----+-----+\n",
      "only showing top 20 rows\n",
      "\n"
     ]
    }
   ],
   "source": [
    "# TOTAL CALCULATION\n",
    "from pyspark.sql.functions import col\n",
    "data = data.withColumn(\n",
    "    \"TOTAL\",\n",
    "    col(\"DV\") + col(\"M-II\") + col(\"PP\") + col(\"BEEE\") + col(\"FL\") + col(\"FIMS\")\n",
    ")\n",
    "data.show()"
   ]
  },
  {
   "cell_type": "code",
   "execution_count": 88,
   "id": "4da222be-2d3a-41c1-9c2e-3e1d289ff499",
   "metadata": {},
   "outputs": [
    {
     "name": "stdout",
     "output_type": "stream",
     "text": [
      "+-----+-----+\n",
      "|TOTAL|count|\n",
      "+-----+-----+\n",
      "|   31|    3|\n",
      "|   85|    7|\n",
      "|   65|    5|\n",
      "|   53|    2|\n",
      "|   78|    9|\n",
      "|  108|    5|\n",
      "|   34|    2|\n",
      "|  115|    4|\n",
      "|  101|    6|\n",
      "|   81|   13|\n",
      "|   28|    2|\n",
      "|   76|    5|\n",
      "|   26|    4|\n",
      "|   44|    3|\n",
      "|  103|   12|\n",
      "|   91|    8|\n",
      "|   93|    4|\n",
      "|  111|    9|\n",
      "|   47|    2|\n",
      "|   52|    4|\n",
      "+-----+-----+\n",
      "only showing top 20 rows\n",
      "\n"
     ]
    }
   ],
   "source": [
    "data.groupBy(\"TOTAL\").count().show()"
   ]
  },
  {
   "cell_type": "code",
   "execution_count": 99,
   "id": "d17ff541-0de8-4777-b74e-34437fa72c5a",
   "metadata": {},
   "outputs": [
    {
     "name": "stdout",
     "output_type": "stream",
     "text": [
      "+----+-------+---+----+---+----+---+----+-----+----------+\n",
      "|S.NO|SECTION| DV|M-II| PP|BEEE| FL|FIMS|TOTAL|percentage|\n",
      "+----+-------+---+----+---+----+---+----+-----+----------+\n",
      "|   1|  ALPHA| 12|   0| 17|   9| 19|  15|   72|      60.0|\n",
      "|   2|  ALPHA| 19|  12| 16|  16| 18|   3|   84|      70.0|\n",
      "|   3|  ALPHA| 18|  14| 18|  18| 18|  16|  102|      85.0|\n",
      "|   4|  ALPHA| 15|   9| 19|  17| 19|  15|   94|     78.33|\n",
      "|   5|  ALPHA| 18|  17| 19|  19| 20|  18|  111|      92.5|\n",
      "|   6|  ALPHA| 17|  16| 18|  10| 15|   9|   85|     70.83|\n",
      "|   7|  ALPHA| 15|  10| 20|  20| 15|  14|   94|     78.33|\n",
      "|   8|  ALPHA| 17|  17| 19|  20| 19|  13|  105|      87.5|\n",
      "|   9|  ALPHA| 10|  18|  0|  20| 19|  15|   82|     68.33|\n",
      "|  10|  ALPHA| 18|  19| 20|  20| 20|  15|  112|     93.33|\n",
      "|  11|  ALPHA| 17|  18| 20|  18| 20|  18|  111|      92.5|\n",
      "|  12|  ALPHA| 20|  20| 20|  20| 19|  16|  115|     95.83|\n",
      "|  13|  ALPHA| 16|  18| 11|  15| 19|  15|   94|     78.33|\n",
      "|  14|  ALPHA| 17|  17| 18|  11| 15|   9|   87|      72.5|\n",
      "|  15|  ALPHA| 19|  20| 20|  20| 18|  12|  109|     90.83|\n",
      "|  16|  ALPHA| 13|  18| 17|  19| 16|   9|   92|     76.67|\n",
      "|  17|  ALPHA| 15|  17| 18|  17| 17|  13|   97|     80.83|\n",
      "|  18|  ALPHA| 11|   8| 18|  15| 19|  15|   86|     71.67|\n",
      "|  19|  ALPHA| 14|  12| 16|  16| 20|  14|   92|     76.67|\n",
      "|  20|  ALPHA| 19|  17| 20|  20| 20|  18|  114|      95.0|\n",
      "+----+-------+---+----+---+----+---+----+-----+----------+\n",
      "only showing top 20 rows\n",
      "\n"
     ]
    }
   ],
   "source": [
    "# PERCENTAGE CALCULATION\n",
    "data = data.withColumn(\n",
    "    \"percentage\",\n",
    "    (col(\"total\") / 120) * 100\n",
    ")\n",
    "\n",
    "from pyspark.sql.functions import round\n",
    "data = data.withColumn(\"percentage\", round(col(\"percentage\"), 2))\n",
    "\n",
    "data.show()"
   ]
  },
  {
   "cell_type": "code",
   "execution_count": 101,
   "id": "f5a21451-9663-4d9c-91fe-b027160a0175",
   "metadata": {},
   "outputs": [
    {
     "name": "stdout",
     "output_type": "stream",
     "text": [
      "+----------+-----+\n",
      "|percentage|count|\n",
      "+----------+-----+\n",
      "|      47.5|    2|\n",
      "|      70.0|   12|\n",
      "|       0.0|    7|\n",
      "|     49.17|    4|\n",
      "|      3.33|    1|\n",
      "|     76.67|   10|\n",
      "|     28.33|    2|\n",
      "|     98.33|    3|\n",
      "|     73.33|    5|\n",
      "|      97.5|    7|\n",
      "|      67.5|   13|\n",
      "|      52.5|   10|\n",
      "|     25.83|    3|\n",
      "|      82.5|    4|\n",
      "|     83.33|    6|\n",
      "|      75.0|    6|\n",
      "|      92.5|    9|\n",
      "|     70.83|    7|\n",
      "|     23.33|    2|\n",
      "|      35.0|    3|\n",
      "+----------+-----+\n",
      "only showing top 20 rows\n",
      "\n"
     ]
    }
   ],
   "source": [
    "data.groupBy(\"percentage\").count().show()"
   ]
  },
  {
   "cell_type": "code",
   "execution_count": 103,
   "id": "fdeaaf97-400c-48b2-9e74-1f57283fd228",
   "metadata": {},
   "outputs": [
    {
     "name": "stdout",
     "output_type": "stream",
     "text": [
      "+-----+----------+-----+\n",
      "|total|percentage|grade|\n",
      "+-----+----------+-----+\n",
      "|   72|      60.0|    C|\n",
      "|   84|      70.0|    B|\n",
      "|  102|      85.0|    A|\n",
      "|   94|     78.33|    B|\n",
      "|  111|      92.5|   A+|\n",
      "|   85|     70.83|    B|\n",
      "|   94|     78.33|    B|\n",
      "|  105|      87.5|    A|\n",
      "|   82|     68.33|    C|\n",
      "|  112|     93.33|   A+|\n",
      "|  111|      92.5|   A+|\n",
      "|  115|     95.83|   A+|\n",
      "|   94|     78.33|    B|\n",
      "|   87|      72.5|    B|\n",
      "|  109|     90.83|   A+|\n",
      "|   92|     76.67|    B|\n",
      "|   97|     80.83|    A|\n",
      "|   86|     71.67|    B|\n",
      "|   92|     76.67|    B|\n",
      "|  114|      95.0|   A+|\n",
      "+-----+----------+-----+\n",
      "only showing top 20 rows\n",
      "\n"
     ]
    }
   ],
   "source": [
    "# GRADE CALCULATION\n",
    "data = data.withColumn(\n",
    "    \"grade\",\n",
    "    when(col(\"percentage\") >= 90, \"A+\")\n",
    "    .when(col(\"percentage\") >= 80, \"A\")\n",
    "    .when(col(\"percentage\") >= 70, \"B\")\n",
    "    .when(col(\"percentage\") >= 60, \"C\")\n",
    "    .when(col(\"percentage\") >= 50, \"D\")\n",
    "    .otherwise(\"F\")\n",
    ")\n",
    "data.select(\"total\", \"percentage\", \"grade\").show()"
   ]
  },
  {
   "cell_type": "code",
   "execution_count": 105,
   "id": "a27c049a-006d-4b93-a0a7-389685920cc9",
   "metadata": {},
   "outputs": [
    {
     "name": "stdout",
     "output_type": "stream",
     "text": [
      "+-----+-----+\n",
      "|grade|count|\n",
      "+-----+-----+\n",
      "|    F|   97|\n",
      "|    B|   96|\n",
      "|    D|   71|\n",
      "|    C|   78|\n",
      "|    A|   76|\n",
      "|   A+|   62|\n",
      "+-----+-----+\n",
      "\n"
     ]
    }
   ],
   "source": [
    "data.groupBy(\"grade\").count().show()"
   ]
  },
  {
   "cell_type": "markdown",
   "id": "14b0b824-6d5c-4307-86c2-2aa523a30efc",
   "metadata": {},
   "source": [
    "#### SKILLS CHECK"
   ]
  },
  {
   "cell_type": "code",
   "execution_count": 108,
   "id": "c31c2405-8d15-4c45-b0e6-f1586acd66c0",
   "metadata": {},
   "outputs": [
    {
     "name": "stdout",
     "output_type": "stream",
     "text": [
      "+----+-------+---+----+---+----+---+----+-----+----------+-----+------------------+\n",
      "|S.NO|SECTION| DV|M-II| PP|BEEE| FL|FIMS|TOTAL|percentage|grade|Programming skills|\n",
      "+----+-------+---+----+---+----+---+----+-----+----------+-----+------------------+\n",
      "|   1|  ALPHA| 12|   0| 17|   9| 19|  15|   72|      60.0|    C|              Good|\n",
      "|   2|  ALPHA| 19|  12| 16|  16| 18|   3|   84|      70.0|    B|              Good|\n",
      "|   3|  ALPHA| 18|  14| 18|  18| 18|  16|  102|      85.0|    A|         Excellent|\n",
      "|   4|  ALPHA| 15|   9| 19|  17| 19|  15|   94|     78.33|    B|         Excellent|\n",
      "|   5|  ALPHA| 18|  17| 19|  19| 20|  18|  111|      92.5|   A+|         Excellent|\n",
      "|   6|  ALPHA| 17|  16| 18|  10| 15|   9|   85|     70.83|    B|         Excellent|\n",
      "|   7|  ALPHA| 15|  10| 20|  20| 15|  14|   94|     78.33|    B|         Excellent|\n",
      "|   8|  ALPHA| 17|  17| 19|  20| 19|  13|  105|      87.5|    A|         Excellent|\n",
      "|   9|  ALPHA| 10|  18|  0|  20| 19|  15|   82|     68.33|    C|              Poor|\n",
      "|  10|  ALPHA| 18|  19| 20|  20| 20|  15|  112|     93.33|   A+|         Excellent|\n",
      "|  11|  ALPHA| 17|  18| 20|  18| 20|  18|  111|      92.5|   A+|         Excellent|\n",
      "|  12|  ALPHA| 20|  20| 20|  20| 19|  16|  115|     95.83|   A+|         Excellent|\n",
      "|  13|  ALPHA| 16|  18| 11|  15| 19|  15|   94|     78.33|    B|              Poor|\n",
      "|  14|  ALPHA| 17|  17| 18|  11| 15|   9|   87|      72.5|    B|         Excellent|\n",
      "|  15|  ALPHA| 19|  20| 20|  20| 18|  12|  109|     90.83|   A+|         Excellent|\n",
      "|  16|  ALPHA| 13|  18| 17|  19| 16|   9|   92|     76.67|    B|              Good|\n",
      "|  17|  ALPHA| 15|  17| 18|  17| 17|  13|   97|     80.83|    A|         Excellent|\n",
      "|  18|  ALPHA| 11|   8| 18|  15| 19|  15|   86|     71.67|    B|         Excellent|\n",
      "|  19|  ALPHA| 14|  12| 16|  16| 20|  14|   92|     76.67|    B|              Good|\n",
      "|  20|  ALPHA| 19|  17| 20|  20| 20|  18|  114|      95.0|   A+|         Excellent|\n",
      "+----+-------+---+----+---+----+---+----+-----+----------+-----+------------------+\n",
      "only showing top 20 rows\n",
      "\n"
     ]
    }
   ],
   "source": [
    "#PROGRAMMING SKILLS\n",
    "data = data.withColumn(\n",
    "    \"Programming skills\",\n",
    "    when(col(\"PP\") >= 18, \"Excellent\")\n",
    "    .when(col(\"PP\") >= 15, \"Good\")\n",
    "    .otherwise(\"Poor\")\n",
    ")\n",
    "\n",
    "data.show()"
   ]
  },
  {
   "cell_type": "code",
   "execution_count": 110,
   "id": "076b919e-e9f9-4c21-a6e4-7a47c05b604b",
   "metadata": {},
   "outputs": [
    {
     "name": "stdout",
     "output_type": "stream",
     "text": [
      "+----+-------+---+----+---+----+---+----+-----+----------+-----+------------------+---------+\n",
      "|S.NO|SECTION| DV|M-II| PP|BEEE| FL|FIMS|TOTAL|percentage|grade|Programming skills|DA SKILLS|\n",
      "+----+-------+---+----+---+----+---+----+-----+----------+-----+------------------+---------+\n",
      "|   1|  ALPHA| 12|   0| 17|   9| 19|  15|   72|      60.0|    C|              Good|     Poor|\n",
      "|   2|  ALPHA| 19|  12| 16|  16| 18|   3|   84|      70.0|    B|              Good|Excellent|\n",
      "|   3|  ALPHA| 18|  14| 18|  18| 18|  16|  102|      85.0|    A|         Excellent|Excellent|\n",
      "|   4|  ALPHA| 15|   9| 19|  17| 19|  15|   94|     78.33|    B|         Excellent|     Good|\n",
      "|   5|  ALPHA| 18|  17| 19|  19| 20|  18|  111|      92.5|   A+|         Excellent|Excellent|\n",
      "|   6|  ALPHA| 17|  16| 18|  10| 15|   9|   85|     70.83|    B|         Excellent|     Good|\n",
      "|   7|  ALPHA| 15|  10| 20|  20| 15|  14|   94|     78.33|    B|         Excellent|     Good|\n",
      "|   8|  ALPHA| 17|  17| 19|  20| 19|  13|  105|      87.5|    A|         Excellent|     Good|\n",
      "|   9|  ALPHA| 10|  18|  0|  20| 19|  15|   82|     68.33|    C|              Poor|     Poor|\n",
      "|  10|  ALPHA| 18|  19| 20|  20| 20|  15|  112|     93.33|   A+|         Excellent|Excellent|\n",
      "|  11|  ALPHA| 17|  18| 20|  18| 20|  18|  111|      92.5|   A+|         Excellent|     Good|\n",
      "|  12|  ALPHA| 20|  20| 20|  20| 19|  16|  115|     95.83|   A+|         Excellent|Excellent|\n",
      "|  13|  ALPHA| 16|  18| 11|  15| 19|  15|   94|     78.33|    B|              Poor|     Good|\n",
      "|  14|  ALPHA| 17|  17| 18|  11| 15|   9|   87|      72.5|    B|         Excellent|     Good|\n",
      "|  15|  ALPHA| 19|  20| 20|  20| 18|  12|  109|     90.83|   A+|         Excellent|Excellent|\n",
      "|  16|  ALPHA| 13|  18| 17|  19| 16|   9|   92|     76.67|    B|              Good|     Poor|\n",
      "|  17|  ALPHA| 15|  17| 18|  17| 17|  13|   97|     80.83|    A|         Excellent|     Good|\n",
      "|  18|  ALPHA| 11|   8| 18|  15| 19|  15|   86|     71.67|    B|         Excellent|     Poor|\n",
      "|  19|  ALPHA| 14|  12| 16|  16| 20|  14|   92|     76.67|    B|              Good|     Poor|\n",
      "|  20|  ALPHA| 19|  17| 20|  20| 20|  18|  114|      95.0|   A+|         Excellent|Excellent|\n",
      "+----+-------+---+----+---+----+---+----+-----+----------+-----+------------------+---------+\n",
      "only showing top 20 rows\n",
      "\n"
     ]
    }
   ],
   "source": [
    "#DA SKILLS\n",
    "data = data.withColumn(\n",
    "    \"DA SKILLS\",\n",
    "    when(col(\"DV\") >= 18, \"Excellent\")\n",
    "    .when(col(\"DV\") >= 15, \"Good\")\n",
    "    .otherwise(\"Poor\")\n",
    ")\n",
    "data.show()"
   ]
  },
  {
   "cell_type": "code",
   "execution_count": 112,
   "id": "a37750ba-87f4-4573-a778-0f1ab4e68ebe",
   "metadata": {},
   "outputs": [],
   "source": [
    "pandas_df=data.toPandas()"
   ]
  },
  {
   "cell_type": "code",
   "execution_count": 114,
   "id": "96936024-bb42-4d36-8d3e-bd90d6bbacc7",
   "metadata": {},
   "outputs": [
    {
     "name": "stdout",
     "output_type": "stream",
     "text": [
      "<class 'pandas.core.frame.DataFrame'>\n",
      "RangeIndex: 480 entries, 0 to 479\n",
      "Data columns (total 13 columns):\n",
      " #   Column              Non-Null Count  Dtype  \n",
      "---  ------              --------------  -----  \n",
      " 0   S.NO                480 non-null    object \n",
      " 1   SECTION             480 non-null    object \n",
      " 2   DV                  480 non-null    int32  \n",
      " 3   M-II                480 non-null    int32  \n",
      " 4   PP                  480 non-null    int32  \n",
      " 5   BEEE                480 non-null    int32  \n",
      " 6   FL                  480 non-null    int32  \n",
      " 7   FIMS                480 non-null    int32  \n",
      " 8   TOTAL               480 non-null    int32  \n",
      " 9   percentage          480 non-null    float64\n",
      " 10  grade               480 non-null    object \n",
      " 11  Programming skills  480 non-null    object \n",
      " 12  DA SKILLS           480 non-null    object \n",
      "dtypes: float64(1), int32(7), object(5)\n",
      "memory usage: 35.8+ KB\n"
     ]
    }
   ],
   "source": [
    "pandas_df.info()"
   ]
  },
  {
   "cell_type": "code",
   "execution_count": null,
   "id": "72ffd02d-b7e3-48e8-9e2d-7f438e8f242d",
   "metadata": {},
   "outputs": [],
   "source": []
  }
 ],
 "metadata": {
  "kernelspec": {
   "display_name": "PYSPARK_KERNEL",
   "language": "python",
   "name": "pyspark-venv"
  },
  "language_info": {
   "codemirror_mode": {
    "name": "ipython",
    "version": 3
   },
   "file_extension": ".py",
   "mimetype": "text/x-python",
   "name": "python",
   "nbconvert_exporter": "python",
   "pygments_lexer": "ipython3",
   "version": "3.11.0"
  }
 },
 "nbformat": 4,
 "nbformat_minor": 5
}
